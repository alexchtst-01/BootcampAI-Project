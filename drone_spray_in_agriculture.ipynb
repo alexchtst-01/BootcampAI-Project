{
  "nbformat": 4,
  "nbformat_minor": 0,
  "metadata": {
    "colab": {
      "provenance": [],
      "authorship_tag": "ABX9TyPajm4giP22dYOq5mDTbCMB",
      "include_colab_link": true
    },
    "kernelspec": {
      "name": "python3",
      "display_name": "Python 3"
    },
    "language_info": {
      "name": "python"
    }
  },
  "cells": [
    {
      "cell_type": "markdown",
      "metadata": {
        "id": "view-in-github",
        "colab_type": "text"
      },
      "source": [
        "<a href=\"https://colab.research.google.com/github/alexchtst-01/BootcampAI-Project/blob/main/drone_spray_in_agriculture.ipynb\" target=\"_parent\"><img src=\"https://colab.research.google.com/assets/colab-badge.svg\" alt=\"Open In Colab\"/></a>"
      ]
    },
    {
      "cell_type": "code",
      "execution_count": 1,
      "metadata": {
        "id": "hQLA-QWODtaf"
      },
      "outputs": [],
      "source": [
        "import numpy as np\n",
        "import matplotlib.pyplot as plt\n",
        "from matplotlib.animation import FuncAnimation\n",
        "import random"
      ]
    },
    {
      "cell_type": "code",
      "source": [
        "class DroneSpraying:\n",
        "  def __init__(self, size):\n",
        "    self.t = 4\n",
        "    self.HARVEST = 8\n",
        "    self.PARTICEL = 5\n",
        "    self.farmGrid = np.ones(shape=(size, size)) * self.HARVEST\n",
        "\n",
        "  def __RULE(self, initalPos):\n",
        "    pass\n",
        "\n",
        "  def simulateFrames(frameStore, vmax, vmin=0):\n",
        "    fig, ax = plt.subplots()\n",
        "\n",
        "    def update(frame_number):\n",
        "        im.set_array(frameStore[frame_number])\n",
        "        return [im]\n",
        "\n",
        "    initial_frame = frameStore[0]\n",
        "    im = ax.imshow(initial_frame, vmin=vmin, vmax=vmax)\n",
        "    ani = FuncAnimation(fig, update, frames=len(frameStore), interval=100, blit=True)\n",
        "\n",
        "    ax.axis('off')\n",
        "    ani.save('result')\n"
      ],
      "metadata": {
        "id": "PedFlbcrEUoC"
      },
      "execution_count": 10,
      "outputs": []
    },
    {
      "cell_type": "code",
      "source": [
        "simModel = DroneSpraying(size=512)"
      ],
      "metadata": {
        "id": "O5QUeiSiEDl3"
      },
      "execution_count": 12,
      "outputs": []
    },
    {
      "cell_type": "code",
      "source": [
        "plt.imshow(simModel.farmGrid, vmin=0, vmax=10)\n",
        "plt.colorbar()"
      ],
      "metadata": {
        "colab": {
          "base_uri": "https://localhost:8080/",
          "height": 452
        },
        "id": "yelsTa_hJXuo",
        "outputId": "0c22ef6a-0e06-41d6-ba5a-4129f9e745f0"
      },
      "execution_count": 17,
      "outputs": [
        {
          "output_type": "execute_result",
          "data": {
            "text/plain": [
              "<matplotlib.colorbar.Colorbar at 0x7a907792bc40>"
            ]
          },
          "metadata": {},
          "execution_count": 17
        },
        {
          "output_type": "display_data",
          "data": {
            "text/plain": [
              "<Figure size 640x480 with 2 Axes>"
            ],
            "image/png": "[encoded data removed]"
          },
          "metadata": {}
        }
      ]
    }
  ]
}